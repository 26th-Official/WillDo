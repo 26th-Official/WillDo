{
 "cells": [
  {
   "cell_type": "code",
   "execution_count": 1,
   "metadata": {},
   "outputs": [],
   "source": [
    "import bcrypt\n",
    "\n",
    "def hash_password(password):\n",
    "    # Generate a random salt and hash the password\n",
    "    salt = bcrypt.gensalt()\n",
    "    hashed_password = bcrypt.hashpw(password.encode('utf-8'), salt)\n",
    "\n",
    "    return hashed_password\n",
    "\n",
    "def check_password(password, hashed_password):\n",
    "    # Check if the provided password matches the hashed password\n",
    "    return bcrypt.checkpw(password.encode('utf-8'), hashed_password)\n"
   ]
  },
  {
   "cell_type": "code",
   "execution_count": 5,
   "metadata": {},
   "outputs": [
    {
     "name": "stdout",
     "output_type": "stream",
     "text": [
      "Password: my_secure_password\n",
      "Hashed password: $2b$12$8eT.XE4Vgs..4rUc3tzd2eLIlUQfQADsI9m0oK0grX4DeFxse42fK\n"
     ]
    }
   ],
   "source": [
    "# Example usage\n",
    "password_to_hash = \"my_secure_password\"\n",
    "hashed_password = hash_password(password_to_hash)\n",
    "\n",
    "print(\"Password: \" + password_to_hash)\n",
    "print(\"Hashed password: \" + hashed_password.decode('utf-8'))"
   ]
  },
  {
   "cell_type": "code",
   "execution_count": 2,
   "metadata": {},
   "outputs": [
    {
     "name": "stdout",
     "output_type": "stream",
     "text": [
      "Password is correct.\n"
     ]
    }
   ],
   "source": [
    "if check_password(\"my_secure_password\", \"$2b$12$8eT.XE4Vgs..4rUc3tzd2eLIlUQfQADsI9m0oK0grX4DeFxse42fK\".encode('utf-8')):\n",
    "    print(\"Password is correct.\")\n",
    "else:\n",
    "    print(\"Incorrect password.\")\n"
   ]
  },
  {
   "cell_type": "code",
   "execution_count": 1,
   "metadata": {},
   "outputs": [
    {
     "ename": "",
     "evalue": "",
     "output_type": "error",
     "traceback": [
      "\u001b[1;31mThe Kernel crashed while executing code in the the current cell or a previous cell. Please review the code in the cell(s) to identify a possible cause of the failure. Click <a href='https://aka.ms/vscodeJupyterKernelCrash'>here</a> for more info. View Jupyter <a href='command:jupyter.viewOutput'>log</a> for further details."
     ]
    }
   ],
   "source": [
    "from flask_jwt_extended import decode_token"
   ]
  },
  {
   "cell_type": "code",
   "execution_count": null,
   "metadata": {},
   "outputs": [],
   "source": [
    "decode_token()"
   ]
  }
 ],
 "metadata": {
  "kernelspec": {
   "display_name": "Python 3",
   "language": "python",
   "name": "python3"
  },
  "language_info": {
   "codemirror_mode": {
    "name": "ipython",
    "version": 3
   },
   "file_extension": ".py",
   "mimetype": "text/x-python",
   "name": "python",
   "nbconvert_exporter": "python",
   "pygments_lexer": "ipython3",
   "version": "3.10.8"
  },
  "orig_nbformat": 4
 },
 "nbformat": 4,
 "nbformat_minor": 2
}
